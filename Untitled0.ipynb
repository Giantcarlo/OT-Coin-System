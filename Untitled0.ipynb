{
  "nbformat": 4,
  "nbformat_minor": 0,
  "metadata": {
    "colab": {
      "provenance": [],
      "authorship_tag": "ABX9TyMiwW+6WaJr3l2H+qHLT3Fg",
      "include_colab_link": true
    },
    "kernelspec": {
      "name": "ir",
      "display_name": "R"
    },
    "language_info": {
      "name": "R"
    },
    "gpuClass": "standard"
  },
  "cells": [
    {
      "cell_type": "markdown",
      "metadata": {
        "id": "view-in-github",
        "colab_type": "text"
      },
      "source": [
        "<a href=\"https://colab.research.google.com/github/Giantcarlo/OT-Coin-System/blob/main/Untitled0.ipynb\" target=\"_parent\"><img src=\"https://colab.research.google.com/assets/colab-badge.svg\" alt=\"Open In Colab\"/></a>"
      ]
    },
    {
      "cell_type": "code",
      "execution_count": 1,
      "metadata": {
        "colab": {
          "base_uri": "https://localhost:8080/",
          "height": 34
        },
        "id": "ZRLYzaCocfSq",
        "outputId": "71b22a9c-bfe4-4911-9517-a61e5f4b4a0d"
      },
      "outputs": [
        {
          "output_type": "display_data",
          "data": {
            "text/html": [
              "'R version 4.2.2 Patched (2022-11-10 r83330)'"
            ],
            "text/markdown": "'R version 4.2.2 Patched (2022-11-10 r83330)'",
            "text/latex": "'R version 4.2.2 Patched (2022-11-10 r83330)'",
            "text/plain": [
              "[1] \"R version 4.2.2 Patched (2022-11-10 r83330)\""
            ]
          },
          "metadata": {}
        }
      ],
      "source": [
        "R.version.string"
      ]
    },
    {
      "cell_type": "code",
      "source": [
        "data <- read.csv(\"/content/Airbnb_Open_Data.csv\")"
      ],
      "metadata": {
        "id": "hUa-RJ6Nc1Fe"
      },
      "execution_count": 7,
      "outputs": []
    }
  ]
}